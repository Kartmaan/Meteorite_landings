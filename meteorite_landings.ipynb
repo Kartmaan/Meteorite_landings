{
 "cells": [
  {
   "cell_type": "markdown",
   "metadata": {},
   "source": [
    "# Meteorite landings analyse\n",
    "This comprehensive data set from The Meteoritical Society contains information on all of the known meteorite landings from 860 to 2013.\n",
    "\n",
    "This dataset was downloaded from the NASA site dedicated to open data at the address: https://data.nasa.gov/Space-Science/Meteorite-Landings/gh4g-9sfh"
   ]
  },
  {
   "cell_type": "code",
   "execution_count": 1030,
   "metadata": {},
   "outputs": [],
   "source": [
    "import pandas as pd\n",
    "import numpy as np\n",
    "import matplotlib.pyplot as plt\n",
    "import seaborn as sns"
   ]
  },
  {
   "cell_type": "code",
   "execution_count": 1031,
   "metadata": {},
   "outputs": [],
   "source": [
    "df = pd.read_csv(\"meteorite_ds.csv\")"
   ]
  },
  {
   "cell_type": "markdown",
   "metadata": {},
   "source": [
    "## Functions\n",
    "Some useful functions for manipulating data from this dataset"
   ]
  },
  {
   "cell_type": "code",
   "execution_count": 1032,
   "metadata": {},
   "outputs": [
    {
     "data": {
      "text/plain": [
       "(45716, 10)"
      ]
     },
     "execution_count": 1032,
     "metadata": {},
     "output_type": "execute_result"
    }
   ],
   "source": [
    "# The raw dataframe has : \n",
    "# 45716 rows and 10 columns\n",
    "shape_before = df.shape\n",
    "shape_before"
   ]
  },
  {
   "cell_type": "code",
   "execution_count": 1033,
   "metadata": {},
   "outputs": [],
   "source": [
    "def del_count(shape):\n",
    "    \"\"\" Function to calculate the amount of information deleted after each cleaning \"\"\"\n",
    "    rows_before = shape_before[0]\n",
    "    rows_now = shape[0]\n",
    "    cumul_del = rows_before - rows_now\n",
    "    #print(rows_before, rows_now)\n",
    "    perc_del = round((cumul_del / rows_before) * 100, 2)\n",
    "\n",
    "    out = f\"Rows initially : {rows_before} | Rows now : {rows_now} | Rows deleted : {cumul_del} - ({perc_del}%)\"\n",
    "\n",
    "    return out"
   ]
  },
  {
   "cell_type": "code",
   "execution_count": 1034,
   "metadata": {},
   "outputs": [],
   "source": [
    "def stats(series):\n",
    "    mean = series.mean()\n",
    "    std = series.std()\n",
    "    cov = std / mean\n",
    "\n",
    "    print(\"Mean = \", round(mean, 2))\n",
    "    print(\"Standard deviation = \", round(std, 2))\n",
    "    print(\"Coefficient of variation : \", round(cov, 2))"
   ]
  },
  {
   "cell_type": "markdown",
   "metadata": {},
   "source": [
    "## Quick dataset exploration"
   ]
  },
  {
   "cell_type": "code",
   "execution_count": 1035,
   "metadata": {},
   "outputs": [
    {
     "data": {
      "text/plain": [
       "(45716, 10)"
      ]
     },
     "execution_count": 1035,
     "metadata": {},
     "output_type": "execute_result"
    }
   ],
   "source": [
    "df.shape"
   ]
  },
  {
   "cell_type": "code",
   "execution_count": 1036,
   "metadata": {},
   "outputs": [
    {
     "name": "stdout",
     "output_type": "stream",
     "text": [
      "<class 'pandas.core.frame.DataFrame'>\n",
      "RangeIndex: 45716 entries, 0 to 45715\n",
      "Data columns (total 10 columns):\n",
      " #   Column       Non-Null Count  Dtype  \n",
      "---  ------       --------------  -----  \n",
      " 0   name         45716 non-null  object \n",
      " 1   id           45716 non-null  int64  \n",
      " 2   nametype     45716 non-null  object \n",
      " 3   recclass     45716 non-null  object \n",
      " 4   mass (g)     45585 non-null  float64\n",
      " 5   fall         45716 non-null  object \n",
      " 6   year         45425 non-null  float64\n",
      " 7   reclat       38401 non-null  float64\n",
      " 8   reclong      38401 non-null  float64\n",
      " 9   GeoLocation  38401 non-null  object \n",
      "dtypes: float64(4), int64(1), object(5)\n",
      "memory usage: 3.5+ MB\n"
     ]
    }
   ],
   "source": [
    "df.info()"
   ]
  },
  {
   "cell_type": "code",
   "execution_count": 1037,
   "metadata": {},
   "outputs": [
    {
     "data": {
      "text/html": [
       "<div>\n",
       "<style scoped>\n",
       "    .dataframe tbody tr th:only-of-type {\n",
       "        vertical-align: middle;\n",
       "    }\n",
       "\n",
       "    .dataframe tbody tr th {\n",
       "        vertical-align: top;\n",
       "    }\n",
       "\n",
       "    .dataframe thead th {\n",
       "        text-align: right;\n",
       "    }\n",
       "</style>\n",
       "<table border=\"1\" class=\"dataframe\">\n",
       "  <thead>\n",
       "    <tr style=\"text-align: right;\">\n",
       "      <th></th>\n",
       "      <th>name</th>\n",
       "      <th>id</th>\n",
       "      <th>nametype</th>\n",
       "      <th>recclass</th>\n",
       "      <th>mass (g)</th>\n",
       "      <th>fall</th>\n",
       "      <th>year</th>\n",
       "      <th>reclat</th>\n",
       "      <th>reclong</th>\n",
       "      <th>GeoLocation</th>\n",
       "    </tr>\n",
       "  </thead>\n",
       "  <tbody>\n",
       "    <tr>\n",
       "      <th>0</th>\n",
       "      <td>Aachen</td>\n",
       "      <td>1</td>\n",
       "      <td>Valid</td>\n",
       "      <td>L5</td>\n",
       "      <td>21.0</td>\n",
       "      <td>Fell</td>\n",
       "      <td>1880.0</td>\n",
       "      <td>50.77500</td>\n",
       "      <td>6.08333</td>\n",
       "      <td>(50.775, 6.08333)</td>\n",
       "    </tr>\n",
       "    <tr>\n",
       "      <th>1</th>\n",
       "      <td>Aarhus</td>\n",
       "      <td>2</td>\n",
       "      <td>Valid</td>\n",
       "      <td>H6</td>\n",
       "      <td>720.0</td>\n",
       "      <td>Fell</td>\n",
       "      <td>1951.0</td>\n",
       "      <td>56.18333</td>\n",
       "      <td>10.23333</td>\n",
       "      <td>(56.18333, 10.23333)</td>\n",
       "    </tr>\n",
       "    <tr>\n",
       "      <th>2</th>\n",
       "      <td>Abee</td>\n",
       "      <td>6</td>\n",
       "      <td>Valid</td>\n",
       "      <td>EH4</td>\n",
       "      <td>107000.0</td>\n",
       "      <td>Fell</td>\n",
       "      <td>1952.0</td>\n",
       "      <td>54.21667</td>\n",
       "      <td>-113.00000</td>\n",
       "      <td>(54.21667, -113.0)</td>\n",
       "    </tr>\n",
       "    <tr>\n",
       "      <th>3</th>\n",
       "      <td>Acapulco</td>\n",
       "      <td>10</td>\n",
       "      <td>Valid</td>\n",
       "      <td>Acapulcoite</td>\n",
       "      <td>1914.0</td>\n",
       "      <td>Fell</td>\n",
       "      <td>1976.0</td>\n",
       "      <td>16.88333</td>\n",
       "      <td>-99.90000</td>\n",
       "      <td>(16.88333, -99.9)</td>\n",
       "    </tr>\n",
       "    <tr>\n",
       "      <th>4</th>\n",
       "      <td>Achiras</td>\n",
       "      <td>370</td>\n",
       "      <td>Valid</td>\n",
       "      <td>L6</td>\n",
       "      <td>780.0</td>\n",
       "      <td>Fell</td>\n",
       "      <td>1902.0</td>\n",
       "      <td>-33.16667</td>\n",
       "      <td>-64.95000</td>\n",
       "      <td>(-33.16667, -64.95)</td>\n",
       "    </tr>\n",
       "  </tbody>\n",
       "</table>\n",
       "</div>"
      ],
      "text/plain": [
       "       name   id nametype     recclass  mass (g)  fall    year    reclat  \\\n",
       "0    Aachen    1    Valid           L5      21.0  Fell  1880.0  50.77500   \n",
       "1    Aarhus    2    Valid           H6     720.0  Fell  1951.0  56.18333   \n",
       "2      Abee    6    Valid          EH4  107000.0  Fell  1952.0  54.21667   \n",
       "3  Acapulco   10    Valid  Acapulcoite    1914.0  Fell  1976.0  16.88333   \n",
       "4   Achiras  370    Valid           L6     780.0  Fell  1902.0 -33.16667   \n",
       "\n",
       "     reclong           GeoLocation  \n",
       "0    6.08333     (50.775, 6.08333)  \n",
       "1   10.23333  (56.18333, 10.23333)  \n",
       "2 -113.00000    (54.21667, -113.0)  \n",
       "3  -99.90000     (16.88333, -99.9)  \n",
       "4  -64.95000   (-33.16667, -64.95)  "
      ]
     },
     "execution_count": 1037,
     "metadata": {},
     "output_type": "execute_result"
    }
   ],
   "source": [
    "df.head()"
   ]
  },
  {
   "cell_type": "markdown",
   "metadata": {},
   "source": [
    "### Column description\n",
    "#### **name :**\n",
    "Name of the meteorite, usually attached to the place where it was found\n",
    "\n",
    "#### **id :** \n",
    "Meteorite ID\n",
    "\n",
    "#### **nametype :** \n",
    "- 'valid' : Meteorites that have retained enough integrity to be clearly classified. \n",
    "- 'relict' : Objects that were once meteorites but are now highly altered by weathering on Earth\n",
    "\n",
    "#### **recclass :** \n",
    "Classification of the meteorite (according to its chemical and mineralogical composition)\n",
    "\n",
    "#### **mass (g) :** \n",
    "Mass in grams\n",
    "\n",
    "#### **fall :** \n",
    "- 'fell' : for meteorites whose fall has been observed/verified. \n",
    "- 'found' : for found meteorites\n",
    "\n",
    "#### **year :** \n",
    "Year the meteorite was first found/studied\n",
    "\n",
    "#### **reclat :**\n",
    "Latitude of the meteorite\n",
    "\n",
    "#### **reclong :**\n",
    "Longitude of the meteorite\n",
    "\n",
    "#### **GeoLocation :**\n",
    "Latitude and longitude in tuple"
   ]
  },
  {
   "cell_type": "markdown",
   "metadata": {},
   "source": [
    "### A data dating back more than a millennium and... another recorded in the future\n",
    "#### The oldest"
   ]
  },
  {
   "cell_type": "code",
   "execution_count": 1038,
   "metadata": {},
   "outputs": [
    {
     "data": {
      "text/plain": [
       "860.0"
      ]
     },
     "execution_count": 1038,
     "metadata": {},
     "output_type": "execute_result"
    }
   ],
   "source": [
    "# Minimum year\n",
    "df['year'].min()"
   ]
  },
  {
   "cell_type": "code",
   "execution_count": 1039,
   "metadata": {},
   "outputs": [
    {
     "data": {
      "text/html": [
       "<div>\n",
       "<style scoped>\n",
       "    .dataframe tbody tr th:only-of-type {\n",
       "        vertical-align: middle;\n",
       "    }\n",
       "\n",
       "    .dataframe tbody tr th {\n",
       "        vertical-align: top;\n",
       "    }\n",
       "\n",
       "    .dataframe thead th {\n",
       "        text-align: right;\n",
       "    }\n",
       "</style>\n",
       "<table border=\"1\" class=\"dataframe\">\n",
       "  <thead>\n",
       "    <tr style=\"text-align: right;\">\n",
       "      <th></th>\n",
       "      <th>name</th>\n",
       "      <th>id</th>\n",
       "      <th>nametype</th>\n",
       "      <th>recclass</th>\n",
       "      <th>mass (g)</th>\n",
       "      <th>fall</th>\n",
       "      <th>year</th>\n",
       "      <th>reclat</th>\n",
       "      <th>reclong</th>\n",
       "      <th>GeoLocation</th>\n",
       "    </tr>\n",
       "  </thead>\n",
       "  <tbody>\n",
       "    <tr>\n",
       "      <th>704</th>\n",
       "      <td>Nogata</td>\n",
       "      <td>16988</td>\n",
       "      <td>Valid</td>\n",
       "      <td>L6</td>\n",
       "      <td>472.0</td>\n",
       "      <td>Fell</td>\n",
       "      <td>860.0</td>\n",
       "      <td>33.725</td>\n",
       "      <td>130.75</td>\n",
       "      <td>(33.725, 130.75)</td>\n",
       "    </tr>\n",
       "  </tbody>\n",
       "</table>\n",
       "</div>"
      ],
      "text/plain": [
       "       name     id nametype recclass  mass (g)  fall   year  reclat  reclong  \\\n",
       "704  Nogata  16988    Valid       L6     472.0  Fell  860.0  33.725   130.75   \n",
       "\n",
       "          GeoLocation  \n",
       "704  (33.725, 130.75)  "
      ]
     },
     "execution_count": 1039,
     "metadata": {},
     "output_type": "execute_result"
    }
   ],
   "source": [
    "df.loc[df['year'] == 860.0]"
   ]
  },
  {
   "cell_type": "markdown",
   "metadata": {},
   "source": [
    "This meteorite is the oldest ever recorded and this thanks to the stories of the time faithfully transmitted through the generations. She had indeed fallen on May 19, 861 in Nogata in Japan in the middle of a Shinto shrine whose faithful have decided to keep"
   ]
  },
  {
   "cell_type": "markdown",
   "metadata": {},
   "source": [
    "#### The most futuristic\n",
    "A meteorite seems to have been recorded during the year 2101..."
   ]
  },
  {
   "cell_type": "code",
   "execution_count": 1040,
   "metadata": {},
   "outputs": [
    {
     "data": {
      "text/plain": [
       "2101.0"
      ]
     },
     "execution_count": 1040,
     "metadata": {},
     "output_type": "execute_result"
    }
   ],
   "source": [
    "# Maximum year\n",
    "df['year'].max()"
   ]
  },
  {
   "cell_type": "code",
   "execution_count": 1041,
   "metadata": {},
   "outputs": [
    {
     "data": {
      "text/html": [
       "<div>\n",
       "<style scoped>\n",
       "    .dataframe tbody tr th:only-of-type {\n",
       "        vertical-align: middle;\n",
       "    }\n",
       "\n",
       "    .dataframe tbody tr th {\n",
       "        vertical-align: top;\n",
       "    }\n",
       "\n",
       "    .dataframe thead th {\n",
       "        text-align: right;\n",
       "    }\n",
       "</style>\n",
       "<table border=\"1\" class=\"dataframe\">\n",
       "  <thead>\n",
       "    <tr style=\"text-align: right;\">\n",
       "      <th></th>\n",
       "      <th>name</th>\n",
       "      <th>id</th>\n",
       "      <th>nametype</th>\n",
       "      <th>recclass</th>\n",
       "      <th>mass (g)</th>\n",
       "      <th>fall</th>\n",
       "      <th>year</th>\n",
       "      <th>reclat</th>\n",
       "      <th>reclong</th>\n",
       "      <th>GeoLocation</th>\n",
       "    </tr>\n",
       "  </thead>\n",
       "  <tbody>\n",
       "    <tr>\n",
       "      <th>30682</th>\n",
       "      <td>Northwest Africa 7701</td>\n",
       "      <td>57150</td>\n",
       "      <td>Valid</td>\n",
       "      <td>CK6</td>\n",
       "      <td>55.0</td>\n",
       "      <td>Found</td>\n",
       "      <td>2101.0</td>\n",
       "      <td>0.0</td>\n",
       "      <td>0.0</td>\n",
       "      <td>(0.0, 0.0)</td>\n",
       "    </tr>\n",
       "  </tbody>\n",
       "</table>\n",
       "</div>"
      ],
      "text/plain": [
       "                        name     id nametype recclass  mass (g)   fall  \\\n",
       "30682  Northwest Africa 7701  57150    Valid      CK6      55.0  Found   \n",
       "\n",
       "         year  reclat  reclong GeoLocation  \n",
       "30682  2101.0     0.0      0.0  (0.0, 0.0)  "
      ]
     },
     "execution_count": 1041,
     "metadata": {},
     "output_type": "execute_result"
    }
   ],
   "source": [
    "df.loc[df['year'] == 2101.0]"
   ]
  },
  {
   "cell_type": "markdown",
   "metadata": {},
   "source": [
    "This seems to be a mistake (maybe it was 2010 or 2001), but for the most superstitious, this meteorite should only weigh 55 grams. \n",
    "\n",
    "We also notice that the geographical coordinates of this entry do not seem to have been specified, there are certainly other entries in the dataset with this particularity, it will be necessary to decide what to do with them during the next step of data cleaning."
   ]
  },
  {
   "cell_type": "markdown",
   "metadata": {},
   "source": [
    "#### The heaviest"
   ]
  },
  {
   "cell_type": "code",
   "execution_count": 1042,
   "metadata": {},
   "outputs": [
    {
     "data": {
      "text/plain": [
       "60000000.0"
      ]
     },
     "execution_count": 1042,
     "metadata": {},
     "output_type": "execute_result"
    }
   ],
   "source": [
    "df['mass (g)'].max()"
   ]
  },
  {
   "cell_type": "code",
   "execution_count": 1043,
   "metadata": {},
   "outputs": [
    {
     "data": {
      "text/html": [
       "<div>\n",
       "<style scoped>\n",
       "    .dataframe tbody tr th:only-of-type {\n",
       "        vertical-align: middle;\n",
       "    }\n",
       "\n",
       "    .dataframe tbody tr th {\n",
       "        vertical-align: top;\n",
       "    }\n",
       "\n",
       "    .dataframe thead th {\n",
       "        text-align: right;\n",
       "    }\n",
       "</style>\n",
       "<table border=\"1\" class=\"dataframe\">\n",
       "  <thead>\n",
       "    <tr style=\"text-align: right;\">\n",
       "      <th></th>\n",
       "      <th>name</th>\n",
       "      <th>id</th>\n",
       "      <th>nametype</th>\n",
       "      <th>recclass</th>\n",
       "      <th>mass (g)</th>\n",
       "      <th>fall</th>\n",
       "      <th>year</th>\n",
       "      <th>reclat</th>\n",
       "      <th>reclong</th>\n",
       "      <th>GeoLocation</th>\n",
       "    </tr>\n",
       "  </thead>\n",
       "  <tbody>\n",
       "    <tr>\n",
       "      <th>16392</th>\n",
       "      <td>Hoba</td>\n",
       "      <td>11890</td>\n",
       "      <td>Valid</td>\n",
       "      <td>Iron, IVB</td>\n",
       "      <td>60000000.0</td>\n",
       "      <td>Found</td>\n",
       "      <td>1920.0</td>\n",
       "      <td>-19.58333</td>\n",
       "      <td>17.91667</td>\n",
       "      <td>(-19.58333, 17.91667)</td>\n",
       "    </tr>\n",
       "  </tbody>\n",
       "</table>\n",
       "</div>"
      ],
      "text/plain": [
       "       name     id nametype   recclass    mass (g)   fall    year    reclat  \\\n",
       "16392  Hoba  11890    Valid  Iron, IVB  60000000.0  Found  1920.0 -19.58333   \n",
       "\n",
       "        reclong            GeoLocation  \n",
       "16392  17.91667  (-19.58333, 17.91667)  "
      ]
     },
     "execution_count": 1043,
     "metadata": {},
     "output_type": "execute_result"
    }
   ],
   "source": [
    "df.loc[df['mass (g)'] == 60000000]"
   ]
  },
  {
   "cell_type": "markdown",
   "metadata": {},
   "source": [
    "From its 60 tons, it is the heaviest and most imposing meteorite ever recorded, it is in Namibia in a farm called Hoba. Scientists estimate that its fall dates back more than 80,000 years, but it was first studied and classified in 1920. Despite its colossal mass, it would not have left any apparent crater, supposedly due to the atmosphere. which would have slowed it down enough, helped by its rectilinear forms."
   ]
  },
  {
   "cell_type": "markdown",
   "metadata": {},
   "source": [
    "# Data cleaning"
   ]
  },
  {
   "cell_type": "markdown",
   "metadata": {},
   "source": [
    "## Delete rows with missing/imprecise data\n",
    "In order to compose only with complete data we choose to delete the rows of the dataframe including missing data"
   ]
  },
  {
   "cell_type": "markdown",
   "metadata": {},
   "source": [
    "### NaN data\n",
    "Some data in the dataset has empty elements (NaN), we choose to delete them"
   ]
  },
  {
   "cell_type": "code",
   "execution_count": 1044,
   "metadata": {},
   "outputs": [
    {
     "data": {
      "text/html": [
       "<div>\n",
       "<style scoped>\n",
       "    .dataframe tbody tr th:only-of-type {\n",
       "        vertical-align: middle;\n",
       "    }\n",
       "\n",
       "    .dataframe tbody tr th {\n",
       "        vertical-align: top;\n",
       "    }\n",
       "\n",
       "    .dataframe thead th {\n",
       "        text-align: right;\n",
       "    }\n",
       "</style>\n",
       "<table border=\"1\" class=\"dataframe\">\n",
       "  <thead>\n",
       "    <tr style=\"text-align: right;\">\n",
       "      <th></th>\n",
       "      <th>name</th>\n",
       "      <th>id</th>\n",
       "      <th>nametype</th>\n",
       "      <th>recclass</th>\n",
       "      <th>mass (g)</th>\n",
       "      <th>fall</th>\n",
       "      <th>year</th>\n",
       "      <th>reclat</th>\n",
       "      <th>reclong</th>\n",
       "      <th>GeoLocation</th>\n",
       "    </tr>\n",
       "  </thead>\n",
       "  <tbody>\n",
       "    <tr>\n",
       "      <th>12</th>\n",
       "      <td>Aire-sur-la-Lys</td>\n",
       "      <td>425</td>\n",
       "      <td>Valid</td>\n",
       "      <td>Unknown</td>\n",
       "      <td>NaN</td>\n",
       "      <td>Fell</td>\n",
       "      <td>1769.0</td>\n",
       "      <td>50.66667</td>\n",
       "      <td>2.33333</td>\n",
       "      <td>(50.66667, 2.33333)</td>\n",
       "    </tr>\n",
       "    <tr>\n",
       "      <th>37</th>\n",
       "      <td>Northwest Africa 5815</td>\n",
       "      <td>50693</td>\n",
       "      <td>Valid</td>\n",
       "      <td>L5</td>\n",
       "      <td>256.800</td>\n",
       "      <td>Found</td>\n",
       "      <td>NaN</td>\n",
       "      <td>0.00000</td>\n",
       "      <td>0.00000</td>\n",
       "      <td>(0.0, 0.0)</td>\n",
       "    </tr>\n",
       "    <tr>\n",
       "      <th>38</th>\n",
       "      <td>Angers</td>\n",
       "      <td>2301</td>\n",
       "      <td>Valid</td>\n",
       "      <td>L6</td>\n",
       "      <td>NaN</td>\n",
       "      <td>Fell</td>\n",
       "      <td>1822.0</td>\n",
       "      <td>47.46667</td>\n",
       "      <td>-0.55000</td>\n",
       "      <td>(47.46667, -0.55)</td>\n",
       "    </tr>\n",
       "    <tr>\n",
       "      <th>76</th>\n",
       "      <td>Barcelona (stone)</td>\n",
       "      <td>4944</td>\n",
       "      <td>Valid</td>\n",
       "      <td>OC</td>\n",
       "      <td>NaN</td>\n",
       "      <td>Fell</td>\n",
       "      <td>1704.0</td>\n",
       "      <td>41.36667</td>\n",
       "      <td>2.16667</td>\n",
       "      <td>(41.36667, 2.16667)</td>\n",
       "    </tr>\n",
       "    <tr>\n",
       "      <th>93</th>\n",
       "      <td>Belville</td>\n",
       "      <td>5009</td>\n",
       "      <td>Valid</td>\n",
       "      <td>OC</td>\n",
       "      <td>NaN</td>\n",
       "      <td>Fell</td>\n",
       "      <td>1937.0</td>\n",
       "      <td>-32.33333</td>\n",
       "      <td>-64.86667</td>\n",
       "      <td>(-32.33333, -64.86667)</td>\n",
       "    </tr>\n",
       "    <tr>\n",
       "      <th>...</th>\n",
       "      <td>...</td>\n",
       "      <td>...</td>\n",
       "      <td>...</td>\n",
       "      <td>...</td>\n",
       "      <td>...</td>\n",
       "      <td>...</td>\n",
       "      <td>...</td>\n",
       "      <td>...</td>\n",
       "      <td>...</td>\n",
       "      <td>...</td>\n",
       "    </tr>\n",
       "    <tr>\n",
       "      <th>45589</th>\n",
       "      <td>Yamato 984028</td>\n",
       "      <td>40648</td>\n",
       "      <td>Valid</td>\n",
       "      <td>Martian (shergottite)</td>\n",
       "      <td>12.342</td>\n",
       "      <td>Found</td>\n",
       "      <td>1998.0</td>\n",
       "      <td>NaN</td>\n",
       "      <td>NaN</td>\n",
       "      <td>NaN</td>\n",
       "    </tr>\n",
       "    <tr>\n",
       "      <th>45660</th>\n",
       "      <td>Yambo no. 2</td>\n",
       "      <td>30346</td>\n",
       "      <td>Valid</td>\n",
       "      <td>L3</td>\n",
       "      <td>3.200</td>\n",
       "      <td>Found</td>\n",
       "      <td>1975.0</td>\n",
       "      <td>NaN</td>\n",
       "      <td>NaN</td>\n",
       "      <td>NaN</td>\n",
       "    </tr>\n",
       "    <tr>\n",
       "      <th>45692</th>\n",
       "      <td>Zacatecas (1969)</td>\n",
       "      <td>30382</td>\n",
       "      <td>Valid</td>\n",
       "      <td>Iron, IIIAB</td>\n",
       "      <td>6660.000</td>\n",
       "      <td>Found</td>\n",
       "      <td>1969.0</td>\n",
       "      <td>NaN</td>\n",
       "      <td>NaN</td>\n",
       "      <td>NaN</td>\n",
       "    </tr>\n",
       "    <tr>\n",
       "      <th>45698</th>\n",
       "      <td>Zapata County</td>\n",
       "      <td>30393</td>\n",
       "      <td>Valid</td>\n",
       "      <td>Iron</td>\n",
       "      <td>NaN</td>\n",
       "      <td>Found</td>\n",
       "      <td>1930.0</td>\n",
       "      <td>27.00000</td>\n",
       "      <td>-99.00000</td>\n",
       "      <td>(27.0, -99.0)</td>\n",
       "    </tr>\n",
       "    <tr>\n",
       "      <th>45700</th>\n",
       "      <td>Zaragoza</td>\n",
       "      <td>48916</td>\n",
       "      <td>Valid</td>\n",
       "      <td>Iron, IVA-an</td>\n",
       "      <td>162000.000</td>\n",
       "      <td>Found</td>\n",
       "      <td>NaN</td>\n",
       "      <td>41.65000</td>\n",
       "      <td>-0.86667</td>\n",
       "      <td>(41.65, -0.86667)</td>\n",
       "    </tr>\n",
       "  </tbody>\n",
       "</table>\n",
       "<p>7601 rows × 10 columns</p>\n",
       "</div>"
      ],
      "text/plain": [
       "                        name     id nametype               recclass  \\\n",
       "12           Aire-sur-la-Lys    425    Valid                Unknown   \n",
       "37     Northwest Africa 5815  50693    Valid                     L5   \n",
       "38                    Angers   2301    Valid                     L6   \n",
       "76         Barcelona (stone)   4944    Valid                     OC   \n",
       "93                  Belville   5009    Valid                     OC   \n",
       "...                      ...    ...      ...                    ...   \n",
       "45589          Yamato 984028  40648    Valid  Martian (shergottite)   \n",
       "45660            Yambo no. 2  30346    Valid                     L3   \n",
       "45692       Zacatecas (1969)  30382    Valid            Iron, IIIAB   \n",
       "45698          Zapata County  30393    Valid                   Iron   \n",
       "45700               Zaragoza  48916    Valid           Iron, IVA-an   \n",
       "\n",
       "         mass (g)   fall    year    reclat   reclong             GeoLocation  \n",
       "12            NaN   Fell  1769.0  50.66667   2.33333     (50.66667, 2.33333)  \n",
       "37        256.800  Found     NaN   0.00000   0.00000              (0.0, 0.0)  \n",
       "38            NaN   Fell  1822.0  47.46667  -0.55000       (47.46667, -0.55)  \n",
       "76            NaN   Fell  1704.0  41.36667   2.16667     (41.36667, 2.16667)  \n",
       "93            NaN   Fell  1937.0 -32.33333 -64.86667  (-32.33333, -64.86667)  \n",
       "...           ...    ...     ...       ...       ...                     ...  \n",
       "45589      12.342  Found  1998.0       NaN       NaN                     NaN  \n",
       "45660       3.200  Found  1975.0       NaN       NaN                     NaN  \n",
       "45692    6660.000  Found  1969.0       NaN       NaN                     NaN  \n",
       "45698         NaN  Found  1930.0  27.00000 -99.00000           (27.0, -99.0)  \n",
       "45700  162000.000  Found     NaN  41.65000  -0.86667       (41.65, -0.86667)  \n",
       "\n",
       "[7601 rows x 10 columns]"
      ]
     },
     "execution_count": 1044,
     "metadata": {},
     "output_type": "execute_result"
    }
   ],
   "source": [
    "df[df.isna().any(axis=1)]"
   ]
  },
  {
   "cell_type": "code",
   "execution_count": 1045,
   "metadata": {},
   "outputs": [],
   "source": [
    "# Delete all rows with at least one missing data\n",
    "df = df.dropna()"
   ]
  },
  {
   "cell_type": "code",
   "execution_count": 1046,
   "metadata": {},
   "outputs": [
    {
     "data": {
      "text/plain": [
       "'Rows initially : 45716 | Rows now : 38115 | Rows deleted : 7601 - (16.63%)'"
      ]
     },
     "execution_count": 1046,
     "metadata": {},
     "output_type": "execute_result"
    }
   ],
   "source": [
    "del_count(df.shape)"
   ]
  },
  {
   "cell_type": "markdown",
   "metadata": {},
   "source": [
    "This operation caused us to lose more than 16% of the data in the dataset (which is significant) but in return we have the assurance of having complete data on which to rely."
   ]
  },
  {
   "cell_type": "markdown",
   "metadata": {},
   "source": [
    "### Quantity per year"
   ]
  },
  {
   "cell_type": "code",
   "execution_count": 1047,
   "metadata": {},
   "outputs": [
    {
     "data": {
      "text/plain": [
       "1979.0    3045\n",
       "1988.0    2295\n",
       "1998.0    2147\n",
       "2003.0    1754\n",
       "2006.0    1616\n",
       "          ... \n",
       "1583.0       1\n",
       "1723.0       1\n",
       "1740.0       1\n",
       "1833.0       1\n",
       "1792.0       1\n",
       "Name: year, Length: 253, dtype: int64"
      ]
     },
     "execution_count": 1047,
     "metadata": {},
     "output_type": "execute_result"
    }
   ],
   "source": [
    "# How many occurences by year ?\n",
    "years_val = df['year'].value_counts()\n",
    "years_val"
   ]
  },
  {
   "cell_type": "code",
   "execution_count": 1048,
   "metadata": {},
   "outputs": [
    {
     "data": {
      "image/png": "[encoded data removed]",
      "text/plain": [
       "<Figure size 432x288 with 1 Axes>"
      ]
     },
     "metadata": {
      "needs_background": "light"
     },
     "output_type": "display_data"
    }
   ],
   "source": [
    "x = years_val.index\n",
    "y = years_val.values\n",
    "\n",
    "plt.scatter(x, y, s = 5)\n",
    "plt.title('Number of meteorite falls recorded per year (800 - 2013)')\n",
    "plt.xlabel('Year')\n",
    "plt.ylabel('Recorded meteorite falls')\n",
    "plt.grid()"
   ]
  },
  {
   "cell_type": "markdown",
   "metadata": {},
   "source": [
    "The graph above reveals that almost all of the data recorded are between the years 1600 and 2000 (with a significant peak from the 80s, certainly due to the growing popularity of computers in the field of scientific research). Of course, this doesn't mean that meteorites falls were particulary numerous during this period : according to NASA, an average of 84,000 meteorites crash into the earth each year, but most of them go unnoticed (85 to 90% fall into the ocean). It's therefore possible to think that in each year of this dataset the same average quantity of meteorites crashed.\n",
    "\n",
    "Thus, in order to take advantage of a greater density of information and to work on annual quantities of meteorites as close as possible to reality, we have chosen to deal only with data spanning from 1970 to 2013"
   ]
  },
  {
   "cell_type": "code",
   "execution_count": 1049,
   "metadata": {},
   "outputs": [],
   "source": [
    "# We only retain data recorded between 1970 and 2013\n",
    "df = df.loc[(df['year'] >= 1970) & (df['year'] <= 2013)]"
   ]
  },
  {
   "cell_type": "code",
   "execution_count": 1050,
   "metadata": {},
   "outputs": [
    {
     "data": {
      "image/png": "[encoded data removed]",
      "text/plain": [
       "<Figure size 432x288 with 1 Axes>"
      ]
     },
     "metadata": {
      "needs_background": "light"
     },
     "output_type": "display_data"
    }
   ],
   "source": [
    "years_val = df['year'].value_counts()\n",
    "x = years_val.index\n",
    "y = years_val.values\n",
    "\n",
    "plt.scatter(x, y, s = 15)\n",
    "plt.title('Number of meteorite falls recorded per year (1970 - 2013)')\n",
    "plt.xlabel('Year')\n",
    "plt.ylabel('Recorded meteorite falls')\n",
    "plt.grid()"
   ]
  },
  {
   "cell_type": "code",
   "execution_count": 1051,
   "metadata": {},
   "outputs": [
    {
     "data": {
      "text/plain": [
       "'Rows initially : 45716 | Rows now : 35901 | Rows deleted : 9815 - (21.47%)'"
      ]
     },
     "execution_count": 1051,
     "metadata": {},
     "output_type": "execute_result"
    }
   ],
   "source": [
    "del_count(df.shape)"
   ]
  },
  {
   "cell_type": "markdown",
   "metadata": {},
   "source": [
    "### Mass"
   ]
  },
  {
   "cell_type": "code",
   "execution_count": 1052,
   "metadata": {},
   "outputs": [
    {
     "data": {
      "text/plain": [
       "Text(0.5, 1.0, 'Meteorite falls recorded per mass (mg)')"
      ]
     },
     "execution_count": 1052,
     "metadata": {},
     "output_type": "execute_result"
    },
    {
     "data": {
      "image/png": "[encoded data removed]",
      "text/plain": [
       "<Figure size 432x288 with 1 Axes>"
      ]
     },
     "metadata": {
      "needs_background": "light"
     },
     "output_type": "display_data"
    }
   ],
   "source": [
    "mass_val = df['mass (g)'].value_counts()\n",
    "x = mass_val.index\n",
    "y = mass_val.values\n",
    "\n",
    "plt.scatter(x, y, s = 5)\n",
    "plt.title(\"Meteorite falls recorded per mass (mg)\")"
   ]
  },
  {
   "cell_type": "markdown",
   "metadata": {},
   "source": [
    "This graph seems to show us that the vast majority of the masses identified seem to be low values."
   ]
  },
  {
   "cell_type": "code",
   "execution_count": 1053,
   "metadata": {},
   "outputs": [
    {
     "data": {
      "text/plain": [
       "count      35901.00\n",
       "mean        1483.01\n",
       "std        40823.51\n",
       "min            0.00\n",
       "25%            6.10\n",
       "50%           24.80\n",
       "75%          133.10\n",
       "max      4000000.00\n",
       "Name: mass (g), dtype: float64"
      ]
     },
     "execution_count": 1053,
     "metadata": {},
     "output_type": "execute_result"
    }
   ],
   "source": [
    "df['mass (g)'].describe().round(2)"
   ]
  },
  {
   "cell_type": "markdown",
   "metadata": {},
   "source": [
    "The describe() function actually shows us that 75% of meteorites have a mass of less than 133 grams. \n",
    "\n",
    "But it also shows us that at least one zero mass has been recorded, it would be wise to know their exact number."
   ]
  },
  {
   "cell_type": "code",
   "execution_count": 1054,
   "metadata": {},
   "outputs": [
    {
     "data": {
      "text/plain": [
       "19"
      ]
     },
     "execution_count": 1054,
     "metadata": {},
     "output_type": "execute_result"
    }
   ],
   "source": [
    "# There are a total of 19 entries listing a meteorite at 0 grams\n",
    "df[df['mass (g)'] == 0].shape[0]"
   ]
  },
  {
   "cell_type": "markdown",
   "metadata": {},
   "source": [
    "19 meteorites were recorded with zero mass, this is not a significant number but it is similar to uninformed values, so it would be prudent to delete them, in order to distort the data as little as possible"
   ]
  },
  {
   "cell_type": "code",
   "execution_count": 1055,
   "metadata": {},
   "outputs": [],
   "source": [
    "# We choose to delete these rows, keeping only the rows with a weight strictly greater than 0 grams\n",
    "df = df.loc[df['mass (g)'] > 0]"
   ]
  },
  {
   "cell_type": "code",
   "execution_count": 1056,
   "metadata": {},
   "outputs": [
    {
     "data": {
      "text/plain": [
       "'Rows initially : 45716 | Rows now : 35882 | Rows deleted : 9834 - (21.51%)'"
      ]
     },
     "execution_count": 1056,
     "metadata": {},
     "output_type": "execute_result"
    }
   ],
   "source": [
    "# Total rows deleted\n",
    "del_count(df.shape)"
   ]
  },
  {
   "cell_type": "markdown",
   "metadata": {},
   "source": [
    "#### A curiosity appears when you look at the low value masses"
   ]
  },
  {
   "cell_type": "code",
   "execution_count": 1057,
   "metadata": {},
   "outputs": [
    {
     "data": {
      "text/plain": [
       "Text(0, 0.5, 'Quantity counted')"
      ]
     },
     "execution_count": 1057,
     "metadata": {},
     "output_type": "execute_result"
    },
    {
     "data": {
      "image/png": "[encoded data removed]",
      "text/plain": [
       "<Figure size 432x288 with 1 Axes>"
      ]
     },
     "metadata": {
      "needs_background": "light"
     },
     "output_type": "display_data"
    }
   ],
   "source": [
    "df_mass = df.loc[(df['mass (g)'] > 0) & (df['mass (g)'] <= 100)]\n",
    "mass_val = df_mass['mass (g)'].value_counts()\n",
    "\n",
    "x = mass_val.index\n",
    "y = mass_val.values\n",
    "\n",
    "plt.scatter(x, y, s = 4)\n",
    "plt.title('Number of meteorites identified according to their mass (0 to 100g)')\n",
    "plt.xlabel('Mass (g)')\n",
    "plt.ylabel('Quantity counted')"
   ]
  },
  {
   "cell_type": "markdown",
   "metadata": {},
   "source": [
    "If you zoom in from 0 to 100 grams, you can clearly see two converging lines appear. Some points appear to overlap on this scale (which would be illogical) but are actually shifted by a few tenths of a gram, an imperceptible difference on this scale. Zooming in more will allow us to see more clearly (next figure)"
   ]
  },
  {
   "cell_type": "code",
   "execution_count": 1058,
   "metadata": {},
   "outputs": [
    {
     "data": {
      "image/png": "[encoded data removed]",
      "text/plain": [
       "<Figure size 432x288 with 1 Axes>"
      ]
     },
     "metadata": {
      "needs_background": "light"
     },
     "output_type": "display_data"
    }
   ],
   "source": [
    "df_mass = df.loc[(df['mass (g)'] > 0) & (df['mass (g)'] <= 1.5)]\n",
    "mass_val = df_mass['mass (g)'].value_counts()\n",
    "\n",
    "x = mass_val.index\n",
    "y = mass_val.values\n",
    "\n",
    "plt.scatter(x, y, s = 8)\n",
    "plt.title('Number of meteorites identified according to their mass (0 to 1.5g)')\n",
    "plt.xlabel('Mass (g)')\n",
    "plt.ylabel('Quantity counted')\n",
    "plt.grid(True, axis='x', linewidth=1.2, linestyle=':', color='black')\n",
    "\n",
    "plt.show()"
   ]
  },
  {
   "cell_type": "markdown",
   "metadata": {},
   "source": [
    "The interval from 0 to 1.5 gram confirms that no point overlaps, but how to explain the existence of these 2 lines observed in the previous figure? \n",
    "\n",
    "We can hypothesize that some measuring devices were not sensitive enough for such low weights and that a large majority of these values were rounded off. Witness the large quantities of meteorites recorded with a weight of 0.1, 0.2, 0.3, 0.4, 0.5, ... intermediate values being rarer. The convergence of the lines can thus be explained by the increasing weight of the meteorites allowing most measuring devices to give more precise values."
   ]
  },
  {
   "cell_type": "markdown",
   "metadata": {},
   "source": [
    "### Location\n",
    "Representing the longitudinal values on an x-axis and latitudinal values on a y-axis, allows us to clearly distinguish the world map"
   ]
  },
  {
   "cell_type": "code",
   "execution_count": 1059,
   "metadata": {},
   "outputs": [
    {
     "data": {
      "image/png": "[encoded data removed]",
      "text/plain": [
       "<Figure size 432x288 with 1 Axes>"
      ]
     },
     "metadata": {
      "needs_background": "light"
     },
     "output_type": "display_data"
    }
   ],
   "source": [
    "df.plot(kind='scatter', x='reclong', y='reclat', alpha=0.1, s=8, title='Geographic visualisation')\n",
    "\n",
    "plt.grid(True)\n",
    "plt.show()"
   ]
  },
  {
   "cell_type": "markdown",
   "metadata": {},
   "source": [
    "We notice that there is a concentration of points at the coordinates (0, 0), which happens to be in the middle of the Gulf of Guinea in the Atlantic Ocean, this seems to be representations of data whose location has not been specified (equivalent to NaN). We choose to remove this data from the dataset."
   ]
  },
  {
   "cell_type": "code",
   "execution_count": 1060,
   "metadata": {},
   "outputs": [
    {
     "data": {
      "text/html": [
       "<div>\n",
       "<style scoped>\n",
       "    .dataframe tbody tr th:only-of-type {\n",
       "        vertical-align: middle;\n",
       "    }\n",
       "\n",
       "    .dataframe tbody tr th {\n",
       "        vertical-align: top;\n",
       "    }\n",
       "\n",
       "    .dataframe thead th {\n",
       "        text-align: right;\n",
       "    }\n",
       "</style>\n",
       "<table border=\"1\" class=\"dataframe\">\n",
       "  <thead>\n",
       "    <tr style=\"text-align: right;\">\n",
       "      <th></th>\n",
       "      <th>name</th>\n",
       "      <th>id</th>\n",
       "      <th>nametype</th>\n",
       "      <th>recclass</th>\n",
       "      <th>mass (g)</th>\n",
       "      <th>fall</th>\n",
       "      <th>year</th>\n",
       "      <th>reclat</th>\n",
       "      <th>reclong</th>\n",
       "      <th>GeoLocation</th>\n",
       "    </tr>\n",
       "  </thead>\n",
       "  <tbody>\n",
       "    <tr>\n",
       "      <th>597</th>\n",
       "      <td>Mason Gully</td>\n",
       "      <td>53653</td>\n",
       "      <td>Valid</td>\n",
       "      <td>H5</td>\n",
       "      <td>24.54</td>\n",
       "      <td>Fell</td>\n",
       "      <td>2010.0</td>\n",
       "      <td>0.0</td>\n",
       "      <td>0.0</td>\n",
       "      <td>(0.0, 0.0)</td>\n",
       "    </tr>\n",
       "    <tr>\n",
       "      <th>1655</th>\n",
       "      <td>Allan Hills 09004</td>\n",
       "      <td>52119</td>\n",
       "      <td>Valid</td>\n",
       "      <td>Howardite</td>\n",
       "      <td>221.70</td>\n",
       "      <td>Found</td>\n",
       "      <td>2009.0</td>\n",
       "      <td>0.0</td>\n",
       "      <td>0.0</td>\n",
       "      <td>(0.0, 0.0)</td>\n",
       "    </tr>\n",
       "    <tr>\n",
       "      <th>1656</th>\n",
       "      <td>Allan Hills 09005</td>\n",
       "      <td>55797</td>\n",
       "      <td>Valid</td>\n",
       "      <td>L5</td>\n",
       "      <td>122.30</td>\n",
       "      <td>Found</td>\n",
       "      <td>2009.0</td>\n",
       "      <td>0.0</td>\n",
       "      <td>0.0</td>\n",
       "      <td>(0.0, 0.0)</td>\n",
       "    </tr>\n",
       "    <tr>\n",
       "      <th>1657</th>\n",
       "      <td>Allan Hills 09006</td>\n",
       "      <td>55798</td>\n",
       "      <td>Valid</td>\n",
       "      <td>H5</td>\n",
       "      <td>104.30</td>\n",
       "      <td>Found</td>\n",
       "      <td>2009.0</td>\n",
       "      <td>0.0</td>\n",
       "      <td>0.0</td>\n",
       "      <td>(0.0, 0.0)</td>\n",
       "    </tr>\n",
       "    <tr>\n",
       "      <th>1658</th>\n",
       "      <td>Allan Hills 09008</td>\n",
       "      <td>55799</td>\n",
       "      <td>Valid</td>\n",
       "      <td>H5</td>\n",
       "      <td>31.30</td>\n",
       "      <td>Found</td>\n",
       "      <td>2009.0</td>\n",
       "      <td>0.0</td>\n",
       "      <td>0.0</td>\n",
       "      <td>(0.0, 0.0)</td>\n",
       "    </tr>\n",
       "    <tr>\n",
       "      <th>...</th>\n",
       "      <td>...</td>\n",
       "      <td>...</td>\n",
       "      <td>...</td>\n",
       "      <td>...</td>\n",
       "      <td>...</td>\n",
       "      <td>...</td>\n",
       "      <td>...</td>\n",
       "      <td>...</td>\n",
       "      <td>...</td>\n",
       "      <td>...</td>\n",
       "    </tr>\n",
       "    <tr>\n",
       "      <th>45655</th>\n",
       "      <td>Yamato 984144</td>\n",
       "      <td>40764</td>\n",
       "      <td>Valid</td>\n",
       "      <td>H6</td>\n",
       "      <td>37.44</td>\n",
       "      <td>Found</td>\n",
       "      <td>1998.0</td>\n",
       "      <td>0.0</td>\n",
       "      <td>0.0</td>\n",
       "      <td>(0.0, 0.0)</td>\n",
       "    </tr>\n",
       "    <tr>\n",
       "      <th>45656</th>\n",
       "      <td>Yamato 984145</td>\n",
       "      <td>40765</td>\n",
       "      <td>Valid</td>\n",
       "      <td>L6</td>\n",
       "      <td>54.80</td>\n",
       "      <td>Found</td>\n",
       "      <td>1998.0</td>\n",
       "      <td>0.0</td>\n",
       "      <td>0.0</td>\n",
       "      <td>(0.0, 0.0)</td>\n",
       "    </tr>\n",
       "    <tr>\n",
       "      <th>45657</th>\n",
       "      <td>Yamato 984146</td>\n",
       "      <td>40766</td>\n",
       "      <td>Valid</td>\n",
       "      <td>H3</td>\n",
       "      <td>19.32</td>\n",
       "      <td>Found</td>\n",
       "      <td>1998.0</td>\n",
       "      <td>0.0</td>\n",
       "      <td>0.0</td>\n",
       "      <td>(0.0, 0.0)</td>\n",
       "    </tr>\n",
       "    <tr>\n",
       "      <th>45658</th>\n",
       "      <td>Yamato 984147</td>\n",
       "      <td>40767</td>\n",
       "      <td>Valid</td>\n",
       "      <td>LL6</td>\n",
       "      <td>118.90</td>\n",
       "      <td>Found</td>\n",
       "      <td>1998.0</td>\n",
       "      <td>0.0</td>\n",
       "      <td>0.0</td>\n",
       "      <td>(0.0, 0.0)</td>\n",
       "    </tr>\n",
       "    <tr>\n",
       "      <th>45659</th>\n",
       "      <td>Yamato 984148</td>\n",
       "      <td>40768</td>\n",
       "      <td>Valid</td>\n",
       "      <td>L5</td>\n",
       "      <td>4.59</td>\n",
       "      <td>Found</td>\n",
       "      <td>1998.0</td>\n",
       "      <td>0.0</td>\n",
       "      <td>0.0</td>\n",
       "      <td>(0.0, 0.0)</td>\n",
       "    </tr>\n",
       "  </tbody>\n",
       "</table>\n",
       "<p>6183 rows × 10 columns</p>\n",
       "</div>"
      ],
      "text/plain": [
       "                    name     id nametype   recclass  mass (g)   fall    year  \\\n",
       "597          Mason Gully  53653    Valid         H5     24.54   Fell  2010.0   \n",
       "1655   Allan Hills 09004  52119    Valid  Howardite    221.70  Found  2009.0   \n",
       "1656   Allan Hills 09005  55797    Valid         L5    122.30  Found  2009.0   \n",
       "1657   Allan Hills 09006  55798    Valid         H5    104.30  Found  2009.0   \n",
       "1658   Allan Hills 09008  55799    Valid         H5     31.30  Found  2009.0   \n",
       "...                  ...    ...      ...        ...       ...    ...     ...   \n",
       "45655      Yamato 984144  40764    Valid         H6     37.44  Found  1998.0   \n",
       "45656      Yamato 984145  40765    Valid         L6     54.80  Found  1998.0   \n",
       "45657      Yamato 984146  40766    Valid         H3     19.32  Found  1998.0   \n",
       "45658      Yamato 984147  40767    Valid        LL6    118.90  Found  1998.0   \n",
       "45659      Yamato 984148  40768    Valid         L5      4.59  Found  1998.0   \n",
       "\n",
       "       reclat  reclong GeoLocation  \n",
       "597       0.0      0.0  (0.0, 0.0)  \n",
       "1655      0.0      0.0  (0.0, 0.0)  \n",
       "1656      0.0      0.0  (0.0, 0.0)  \n",
       "1657      0.0      0.0  (0.0, 0.0)  \n",
       "1658      0.0      0.0  (0.0, 0.0)  \n",
       "...       ...      ...         ...  \n",
       "45655     0.0      0.0  (0.0, 0.0)  \n",
       "45656     0.0      0.0  (0.0, 0.0)  \n",
       "45657     0.0      0.0  (0.0, 0.0)  \n",
       "45658     0.0      0.0  (0.0, 0.0)  \n",
       "45659     0.0      0.0  (0.0, 0.0)  \n",
       "\n",
       "[6183 rows x 10 columns]"
      ]
     },
     "execution_count": 1060,
     "metadata": {},
     "output_type": "execute_result"
    }
   ],
   "source": [
    "# 6183 entries have no precise locations\n",
    "df.loc[(df['reclat'] == 0.0) & (df['reclong'] == 0.0)]"
   ]
  },
  {
   "cell_type": "code",
   "execution_count": 1061,
   "metadata": {},
   "outputs": [],
   "source": [
    "df = df.loc[(df['reclat'] != 0.0) & (df['reclong'] != 0.0)]"
   ]
  },
  {
   "cell_type": "code",
   "execution_count": 1062,
   "metadata": {},
   "outputs": [
    {
     "data": {
      "image/png": "[encoded data removed]",
      "text/plain": [
       "<Figure size 432x288 with 1 Axes>"
      ]
     },
     "metadata": {
      "needs_background": "light"
     },
     "output_type": "display_data"
    }
   ],
   "source": [
    "df.plot(kind='scatter', x='reclong', y='reclat', alpha=0.1, s=8, title='Geographic visualisation (without (0,0) coord.)')\n",
    "plt.grid(True)\n",
    "\n",
    "plt.show()"
   ]
  },
  {
   "cell_type": "code",
   "execution_count": 1063,
   "metadata": {},
   "outputs": [
    {
     "data": {
      "text/plain": [
       "'Rows initially : 45716 | Rows now : 29476 | Rows deleted : 16240 - (35.52%)'"
      ]
     },
     "execution_count": 1063,
     "metadata": {},
     "output_type": "execute_result"
    }
   ],
   "source": [
    "del_count(df.shape)"
   ]
  },
  {
   "cell_type": "code",
   "execution_count": 1064,
   "metadata": {},
   "outputs": [],
   "source": [
    "# Deleted rows broke the linearity of the index, so it needs to be reset\n",
    "df = df.reset_index(drop=True)"
   ]
  },
  {
   "cell_type": "markdown",
   "metadata": {},
   "source": [
    "# Visualizations\n",
    "## Mass"
   ]
  },
  {
   "cell_type": "markdown",
   "metadata": {},
   "source": [
    "A brief look at the describe() function tells us that the mass values have a standard deviation of more than 45000 for an average of 1719, which indicates a very heterogeneous distribution, this is partly confirmed by the fact that 75% of the 29,476 masses recensed have a value of less than 136 grams and 50% less than 25 grams. This indicates that the vast majority of meteorites identified are low masses."
   ]
  },
  {
   "cell_type": "code",
   "execution_count": 1065,
   "metadata": {},
   "outputs": [
    {
     "data": {
      "text/plain": [
       "count      29476.0\n",
       "mean        1719.0\n",
       "std        45021.0\n",
       "min            0.0\n",
       "25%            6.0\n",
       "50%           25.0\n",
       "75%          136.0\n",
       "max      4000000.0\n",
       "Name: mass (g), dtype: float64"
      ]
     },
     "execution_count": 1065,
     "metadata": {},
     "output_type": "execute_result"
    }
   ],
   "source": [
    "df['mass (g)'].describe().round()"
   ]
  },
  {
   "cell_type": "code",
   "execution_count": 1066,
   "metadata": {},
   "outputs": [
    {
     "name": "stdout",
     "output_type": "stream",
     "text": [
      "Mean =  1719.22\n",
      "Standard deviation =  45021.04\n",
      "Coefficient of variation :  26.19\n"
     ]
    }
   ],
   "source": [
    "stats(df['mass (g)'])"
   ]
  },
  {
   "cell_type": "markdown",
   "metadata": {},
   "source": [
    "In order to gain visibility, we will group the values by mass intervals"
   ]
  },
  {
   "cell_type": "code",
   "execution_count": 1067,
   "metadata": {},
   "outputs": [
    {
     "data": {
      "text/plain": [
       "0-50g        18061\n",
       "50-100g       2849\n",
       "100g-500g     5158\n",
       "500g-1kg      1243\n",
       "1kg-10kg      1745\n",
       ">10kg          420\n",
       "dtype: int64"
      ]
     },
     "execution_count": 1067,
     "metadata": {},
     "output_type": "execute_result"
    }
   ],
   "source": [
    "mass_50 = df.loc[df['mass (g)'] <= 50]['mass (g)'].reset_index(drop=True).value_counts().sum()\n",
    "mass_51_100 = df.loc[(df['mass (g)'] > 50) & (df['mass (g)'] <= 100)]['mass (g)'].reset_index(drop=True).value_counts().sum()\n",
    "mass_101_500 = df.loc[(df['mass (g)'] > 100) & (df['mass (g)'] <= 500)]['mass (g)'].reset_index(drop=True).value_counts().sum()\n",
    "mass_501_1k = df.loc[(df['mass (g)'] > 500) & (df['mass (g)'] <= 1000)]['mass (g)'].reset_index(drop=True).value_counts().sum()\n",
    "mass_1k_10k = df.loc[(df['mass (g)'] > 1000) & (df['mass (g)'] <= 10000)]['mass (g)'].reset_index(drop=True).value_counts().sum()\n",
    "mass_10k_plus = df.loc[df['mass (g)'] > 10000]['mass (g)'].reset_index(drop=True).value_counts().sum()\n",
    "\n",
    "mass1 = pd.Series([mass_50], index=['0-50g'])\n",
    "mass2 = pd.Series([mass_51_100], index=['50-100g'])\n",
    "mass3 = pd.Series([mass_101_500], index=['100g-500g'])\n",
    "mass4 = pd.Series([mass_501_1k], index=['500g-1kg'])\n",
    "mass5 = pd.Series([mass_1k_10k], index=['1kg-10kg'])\n",
    "mass6 = pd.Series([mass_10k_plus], index=['>10kg'])\n",
    "\n",
    "mass = pd.concat([mass1, mass2, mass3, mass4, mass5, mass6])\n",
    "\n",
    "mass"
   ]
  },
  {
   "cell_type": "markdown",
   "metadata": {},
   "source": [
    "The values have been divided into 6 distinct groups, which will greatly facilitate the graphical representation"
   ]
  },
  {
   "cell_type": "code",
   "execution_count": 1068,
   "metadata": {},
   "outputs": [
    {
     "data": {
      "image/png": "[encoded data removed]",
      "text/plain": [
       "<Figure size 432x288 with 1 Axes>"
      ]
     },
     "metadata": {},
     "output_type": "display_data"
    }
   ],
   "source": [
    "pal_color = sns.color_palette('bright')\n",
    "plt.pie(mass.values, labels=mass.keys(), colors=pal_color, autopct='%.0f%%', radius=3, shadow=True)\n",
    "#plt.title(title)\n",
    "plt.show()"
   ]
  },
  {
   "cell_type": "markdown",
   "metadata": {},
   "source": [
    "The graph above confirms that low-mass meteorites represent the overwhelming majority of meteorites recorded."
   ]
  },
  {
   "cell_type": "code",
   "execution_count": 1069,
   "metadata": {},
   "outputs": [
    {
     "name": "stdout",
     "output_type": "stream",
     "text": [
      "Mean =  4912.67\n",
      "Standard deviation =  6646.54\n",
      "Coefficient of variation :  1.35\n"
     ]
    }
   ],
   "source": [
    "stats(mass)"
   ]
  },
  {
   "cell_type": "code",
   "execution_count": 1070,
   "metadata": {},
   "outputs": [
    {
     "data": {
      "text/plain": [
       "H5                60\n",
       "L6                56\n",
       "L5                29\n",
       "Iron, IIIAB       27\n",
       "H4                27\n",
       "                  ..\n",
       "H/L4               1\n",
       "CH/CBb             1\n",
       "CO3.8              1\n",
       "L4-5               1\n",
       "Mesosiderite-C     1\n",
       "Name: recclass, Length: 81, dtype: int64"
      ]
     },
     "execution_count": 1070,
     "metadata": {},
     "output_type": "execute_result"
    }
   ],
   "source": [
    "df.loc[df['mass (g)'] > 10000]['recclass'].value_counts()"
   ]
  },
  {
   "cell_type": "markdown",
   "metadata": {},
   "source": [
    "## Classifications\n",
    "Meteorites have a classification system based on their chemical and mineralogical composition. A quick look in the dataset shows that the 29476 remaining entries (after cleaning) are divided into 361 different classes"
   ]
  },
  {
   "cell_type": "code",
   "execution_count": 1071,
   "metadata": {},
   "outputs": [
    {
     "data": {
      "text/plain": [
       "L6                6165\n",
       "H5                5274\n",
       "H4                3176\n",
       "H6                2921\n",
       "L5                2607\n",
       "                  ... \n",
       "EL4/5                1\n",
       "Diogenite-an         1\n",
       "CR1                  1\n",
       "L(LL)3.5-3.7         1\n",
       "Mesosiderite-C       1\n",
       "Name: recclass, Length: 361, dtype: int64"
      ]
     },
     "execution_count": 1071,
     "metadata": {},
     "output_type": "execute_result"
    }
   ],
   "source": [
    "recclass = df['recclass'].value_counts()\n",
    "recclass"
   ]
  },
  {
   "cell_type": "code",
   "execution_count": 1072,
   "metadata": {},
   "outputs": [
    {
     "data": {
      "text/plain": [
       "count     361.000000\n",
       "mean       81.650970\n",
       "std       512.107921\n",
       "min         1.000000\n",
       "25%         1.000000\n",
       "50%         3.000000\n",
       "75%        13.000000\n",
       "max      6165.000000\n",
       "Name: recclass, dtype: float64"
      ]
     },
     "execution_count": 1072,
     "metadata": {},
     "output_type": "execute_result"
    }
   ],
   "source": [
    "recclass.describe()"
   ]
  },
  {
   "cell_type": "code",
   "execution_count": 1073,
   "metadata": {},
   "outputs": [
    {
     "name": "stdout",
     "output_type": "stream",
     "text": [
      "Mean =  81.65\n",
      "Standard deviation =  512.11\n",
      "Coefficient of variation :  6.27\n"
     ]
    }
   ],
   "source": [
    "# Coefficient of variation\n",
    "stats(recclass)"
   ]
  },
  {
   "cell_type": "markdown",
   "metadata": {},
   "source": [
    "Nevertheless we notice that the quantities have a significant standard deviation (512 for an average of 81). 75% of the 361 classes contain 13 or fewer entries, and 50% contain 3 or fewer. This suggests that a small number of classes contain the majority of meteorites identified."
   ]
  },
  {
   "cell_type": "markdown",
   "metadata": {},
   "source": [
    "Faced with such a number of different classes, it would be wise to reduce the number by grouping those of them with the fewest occurrences in a single class.\n",
    "\n",
    "We decide that all classes containing less than 300 entries will be grouped into a single class called \"Others\""
   ]
  },
  {
   "cell_type": "code",
   "execution_count": 1074,
   "metadata": {},
   "outputs": [
    {
     "data": {
      "text/plain": [
       "L6        6165\n",
       "Others    5409\n",
       "H5        5274\n",
       "H4        3176\n",
       "H6        2921\n",
       "L5        2607\n",
       "LL5       1877\n",
       "LL6        925\n",
       "L4         749\n",
       "H4/5       373\n",
       "dtype: int64"
      ]
     },
     "execution_count": 1074,
     "metadata": {},
     "output_type": "execute_result"
    }
   ],
   "source": [
    "limit = 300\n",
    "total = recclass.sum()\n",
    "recclass_high = recclass[recclass >= limit]\n",
    "others_count = recclass.sum() - recclass_high.sum()\n",
    "\n",
    "others_series = pd.Series([others_count], index=['Others'])\n",
    "#recclass_high = recclass_high.append(others_series)\n",
    "recclass_high = pd.concat([recclass_high, others_series])\n",
    "recclass_high = recclass_high.sort_values(ascending=False)\n",
    "\n",
    "recclass_high"
   ]
  },
  {
   "cell_type": "code",
   "execution_count": 1075,
   "metadata": {},
   "outputs": [
    {
     "name": "stdout",
     "output_type": "stream",
     "text": [
      "---- Before the merger ----\n",
      "Mean =  81.65\n",
      "Standard deviation =  512.11\n",
      "Coefficient of variation :  6.27\n",
      "---- After the merger ----\n",
      "Mean =  2947.6\n",
      "Standard deviation =  2073.39\n",
      "Coefficient of variation :  0.7\n"
     ]
    }
   ],
   "source": [
    "print('---- Before the merger ----')\n",
    "stats(recclass)\n",
    "\n",
    "print('---- After the merger ----')\n",
    "stats(recclass_high)"
   ]
  },
  {
   "cell_type": "markdown",
   "metadata": {},
   "source": [
    "Merged classes increased the mean but decreased the dispersion of values, the coefficient of variation decreased from 6.27 to 0.7"
   ]
  },
  {
   "cell_type": "code",
   "execution_count": 1076,
   "metadata": {},
   "outputs": [
    {
     "data": {
      "image/png": "[encoded data removed]",
      "text/plain": [
       "<Figure size 432x288 with 1 Axes>"
      ]
     },
     "metadata": {
      "needs_background": "light"
     },
     "output_type": "display_data"
    }
   ],
   "source": [
    "min_val = min(recclass_high)\n",
    "max_val = max(recclass_high)\n",
    "mean = recclass_high.mean()\n",
    "std = recclass_high.std()\n",
    "#print(mean, std)\n",
    "\n",
    "plt.ylim(min_val - 100, max_val + 100)\n",
    "plt.scatter(x=recclass_high.index, y=recclass_high.values)\n",
    "\n",
    "# Mean line\n",
    "plt.hlines(y=mean, xmin=0, xmax=len(recclass_high), colors='red')\n",
    "\n",
    "# Std lines\n",
    "plt.hlines(y=mean + std, xmin=0, xmax=len(recclass_high), linestyles='dotted', colors='green')\n",
    "plt.hlines(y=mean - std, xmin=0, xmax=len(recclass_high), linestyles='dotted', colors='green')\n",
    "\n",
    "plt.title('Distribution of meteorite classes')\n",
    "plt.xlabel('Class names')\n",
    "plt.ylabel('Quantities identified')\n",
    "\n",
    "plt.show()"
   ]
  },
  {
   "cell_type": "markdown",
   "metadata": {},
   "source": [
    "This graph shows us the distribution of the classes around their mean (red line) and their standard deviation (green lines). The more the value of the standard deviation is far from the mean, the more it indicates a strong dispersion of the values.\n",
    "\n",
    "The quantities identified for each class decrease almost linearly from H4, while L6 and H5 reach high values exceeding the standard deviation, the L6 value is also so high that it exceeds the sum of all values of classes grouped in \"Others\""
   ]
  },
  {
   "cell_type": "code",
   "execution_count": 1077,
   "metadata": {},
   "outputs": [
    {
     "data": {
      "image/png": "[encoded data removed]",
      "text/plain": [
       "<Figure size 432x288 with 1 Axes>"
      ]
     },
     "metadata": {},
     "output_type": "display_data"
    }
   ],
   "source": [
    "x = np.array(recclass_high.keys())\n",
    "y = recclass_high.values\n",
    "\n",
    "pal_color = sns.color_palette('bright')\n",
    "title = 'Meteorites distribution by their classification'\n",
    "\n",
    "plt.pie(y, labels=x, colors=pal_color, autopct='%.1f%%', radius=3, shadow=True)\n",
    "#plt.title(title)\n",
    "plt.show()"
   ]
  }
 ],
 "metadata": {
  "kernelspec": {
   "display_name": "Python 3.9.12 ('base')",
   "language": "python",
   "name": "python3"
  },
  "language_info": {
   "codemirror_mode": {
    "name": "ipython",
    "version": 3
   },
   "file_extension": ".py",
   "mimetype": "text/x-python",
   "name": "python",
   "nbconvert_exporter": "python",
   "pygments_lexer": "ipython3",
   "version": "3.9.12"
  },
  "orig_nbformat": 4,
  "vscode": {
   "interpreter": {
    "hash": "465bc43bf4cbae58c142e3527ff2b05702dd810bc8ebc4f627e0af6c067b87a4"
   }
  }
 },
 "nbformat": 4,
 "nbformat_minor": 2
}
